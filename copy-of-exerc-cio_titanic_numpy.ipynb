{
  "nbformat": 4,
  "nbformat_minor": 0,
  "metadata": {
    "kernelspec": {
      "display_name": "Python 3",
      "language": "python",
      "name": "python3"
    },
    "language_info": {
      "codemirror_mode": {
        "name": "ipython",
        "version": 3
      },
      "file_extension": ".py",
      "mimetype": "text/x-python",
      "name": "python",
      "nbconvert_exporter": "python",
      "pygments_lexer": "ipython3",
      "version": "3.7.4"
    },
    "colab": {
      "name": "Copy of exercício_titanic_numpy.ipynb",
      "provenance": [],
      "collapsed_sections": [],
      "include_colab_link": true
    }
  },
  "cells": [
    {
      "cell_type": "markdown",
      "metadata": {
        "id": "view-in-github",
        "colab_type": "text"
      },
      "source": [
        "<a href=\"https://colab.research.google.com/gist/luizin1991/0a912a5d77f3a1e62a984df88fe3dbad/copy-of-exerc-cio_titanic_numpy.ipynb\" target=\"_parent\"><img src=\"https://colab.research.google.com/assets/colab-badge.svg\" alt=\"Open In Colab\"/></a>"
      ]
    },
    {
      "cell_type": "markdown",
      "metadata": {
        "id": "BOLsv3flqZSU",
        "colab_type": "text"
      },
      "source": [
        "![titanic](img/titanic_historical.jpg \"Pintura do Titanic\")\n",
        "\n",
        "# EXERCÍCIOS: Análise de Dados do Titanic"
      ]
    },
    {
      "cell_type": "markdown",
      "metadata": {
        "id": "1h3pNTPsqZSV",
        "colab_type": "text"
      },
      "source": [
        "O RMS Titanic foi um navio de passageiros britânico operado pela empresa *White Star Line* que afundou no Oceano Atlântico Norte nas primeiras horas da manhã de 15 de abril de 1912, depois de atingir um iceberg durante sua viagem inaugural de Southampton a Nova York. Dos 2.224 passageiros e tripulantes a bordo, mais de 1.500 morreram, tornando o naufrágio um dos desastres marítimos comerciais mais mortais da história moderna em tempos de paz.\n",
        "\n",
        "Neste estudo iremos explorar um conjunto de dados baseado na lista de passageiros do Titanic editada por Michael A. Findlay, publicada originalmente em Eaton & Haas (1994) Titanic: Triumph and Tragedy, Patrick Stephens Ltd, e expandida com a ajuda da comunidade da Internet. Os arquivos HTML originais foram obtidos por Philip Hind (1999) e o *dataset* descreve o status de sobrevivência de passageiros individuais no Titanic. Ele não contém informações para a tripulação, mas contém idades atuais e estimadas para quase 80% dos passageiros."
      ]
    },
    {
      "cell_type": "markdown",
      "metadata": {
        "id": "wnxqVyI5qZSW",
        "colab_type": "text"
      },
      "source": [
        "## Dicionário de Dados\n",
        "\n",
        "Nesta seção será apresentado todo o processo de preparação, organização e limpeza de dados feito no *dataset* que possui os seguintes dados:\n",
        "\n",
        "| Nº | Coluna          | Descrição                                                                 |\n",
        "|:--:|:----------------|:--------------------------------------------------------------------------|\n",
        "|  1 | id_passageiro   | Identficador único do passageiro.                                         |\n",
        "|  2 | classe          | Classe social.                                                            |\n",
        "|  3 | sobreviveu      | Sobrevivente? Sim (1), Não (0).                                           |\n",
        "|  4 | nome            | Nome do passageiro.                                                       |\n",
        "|  5 | sexo            | Masculino (male), Feminino (female).                                      |\n",
        "|  6 | idade           | Idade do passageiro.                                                      |\n",
        "|  7 | irmaos_conjuges | Número de irmãos e cônjuges a bordo.                                      |\n",
        "|  8 | pais_filhos     | Número de pais e filhos a bordo.                                          |\n",
        "|  9 | bilhete         | Número do bilhete                                                         |\n",
        "| 10 | tarifa          | Preço da tarifa do passageiro.                                            |\n",
        "| 11 | cabine          | Cabine.                                                                   |\n",
        "| 12 | embarque        | Nome do porto de embarque: C = Cherbourg; Q = Queenstown; S = Southampton |\n",
        "| 13 | bote            | Bote salva vidas.                                                         |\n",
        "| 14 | corpo           | Número de identificação do corpo.                                         |\n",
        "| 15 | destino         | Local de desembarque do passageiro.                                       |\n",
        "\n",
        "### OBSERVAÇÕES\n",
        "\n",
        "- `classe` é uma aproximação do status socioeconômico na época, onde: 1 = Classe Alta1; 2 = Classe Média e 3 = Classe Baixa;\n",
        "- `idade` está representada em anos, porém, se a idade for menor que Um (1) ou caso tenha sido estimada, ela estará com casas decimais xx.5;\n",
        "- `tarifa` está em Libras esterlinas (British Pounds - £) anteriores a 1970;\n",
        "- `irmaos_conjuges` e `pais_filhos`: as variáveis de relação familiar de algumas relações foram ignoradas; a seguir estão as definições usadas:\n",
        "    - **Irmão**: Irmão, irmã, meio-irmão ou meia-irmã do passageiro a bordo do Titanic;\n",
        "    - **Cônjuge**: Marido ou esposa do passageiro a bordo do Titanic (amantes e noivos ignorados);\n",
        "    - **Pai**: Mãe ou pai do passageiro a bordo do Titanic;\n",
        "    - **Criança**: Filho, Filha, Enteado ou Enteada do Passageiro a bordo do Titanic;\n",
        "    - Outros parentes excluídos deste estudo incluem primos, sobrinhos / sobrinhas, tias / tios e parentes;\n",
        "    - Algumas crianças viajavam apenas com uma babá, portanto foi atribuído 0 para elas em pais_filhos; \n",
        "    - Alguns viajaram com amigos ou vizinhos muito próximos em uma vila, no entanto, as definições não apóiam essas relações.\n"
      ]
    },
    {
      "cell_type": "markdown",
      "metadata": {
        "id": "Lv7RLCEHqZSW",
        "colab_type": "text"
      },
      "source": [
        "## Exercícios\n",
        "Faça as questões abaixo usando somente a biblioteca [Numpy](https://numpy.org/)."
      ]
    },
    {
      "cell_type": "markdown",
      "metadata": {
        "id": "CYLcFS_dqZSX",
        "colab_type": "text"
      },
      "source": [
        "1. Importe o pacote numpy com o nome np."
      ]
    },
    {
      "cell_type": "code",
      "metadata": {
        "id": "dhF-nEYEqZSY",
        "colab_type": "code",
        "colab": {}
      },
      "source": [
        "import numpy as np\n",
        "\n"
      ],
      "execution_count": 4,
      "outputs": []
    },
    {
      "cell_type": "markdown",
      "metadata": {
        "id": "X7OxLoK7qZSc",
        "colab_type": "text"
      },
      "source": [
        "2. Carregue o conjunto de dados disponível na pasta [data/titanic3.csv](data/titanic3.csv), ignorando as colunas: `cabine`, `bote`, `corpo` e `destino`. **Importante:** o arquivo `.csv` usa tabulação (`\\t`) como delimitador de campos."
      ]
    },
    {
      "cell_type": "code",
      "metadata": {
        "id": "X_Ugo1wFqZSd",
        "colab_type": "code",
        "colab": {
          "base_uri": "https://localhost:8080/",
          "height": 136
        },
        "outputId": "86d98a80-284e-45c7-ec80-b2c0aa86cd2e"
      },
      "source": [
        "import csv\n",
        "from numpy import genfromtxt\n",
        "dados = np.genfromtxt('titanic.csv', delimiter='\\t', encoding='utf-8', dtype=object, skip_header=True)\n",
        "print(dados)"
      ],
      "execution_count": 6,
      "outputs": [
        {
          "output_type": "stream",
          "text": [
            "[[b'1' b'1' b'1' ... b'2' b'' b'St Louis, MO']\n",
            " [b'2' b'1' b'1' ... b'11' b'' b'Montreal, PQ / Chesterville, ON']\n",
            " [b'3' b'1' b'0' ... b'' b'' b'Montreal, PQ / Chesterville, ON']\n",
            " ...\n",
            " [b'1307' b'3' b'0' ... b'' b'304' b'']\n",
            " [b'1308' b'3' b'0' ... b'' b'' b'']\n",
            " [b'1309' b'3' b'0' ... b'' b'' b'']]\n"
          ],
          "name": "stdout"
        }
      ]
    },
    {
      "cell_type": "markdown",
      "metadata": {
        "id": "x_P7_-9QqZSg",
        "colab_type": "text"
      },
      "source": [
        "3. Quantas linhas foram lidas do arquivo?"
      ]
    },
    {
      "cell_type": "code",
      "metadata": {
        "id": "c71OYgB6qZSg",
        "colab_type": "code",
        "colab": {
          "base_uri": "https://localhost:8080/",
          "height": 34
        },
        "outputId": "2effc10c-e157-4434-c5bf-772938659a4d"
      },
      "source": [
        "print(len(dados))"
      ],
      "execution_count": 7,
      "outputs": [
        {
          "output_type": "stream",
          "text": [
            "1309\n"
          ],
          "name": "stdout"
        }
      ]
    },
    {
      "cell_type": "markdown",
      "metadata": {
        "id": "OsSXdkGRqZSi",
        "colab_type": "text"
      },
      "source": [
        "4. Quantas dimensões sua variável dados possui?"
      ]
    },
    {
      "cell_type": "code",
      "metadata": {
        "id": "8jbh406kqZSj",
        "colab_type": "code",
        "colab": {
          "base_uri": "https://localhost:8080/",
          "height": 34
        },
        "outputId": "17bff0d7-492e-43c0-f1df-b5923eeb3d03"
      },
      "source": [
        "print(np.ndim(dados))"
      ],
      "execution_count": 8,
      "outputs": [
        {
          "output_type": "stream",
          "text": [
            "2\n"
          ],
          "name": "stdout"
        }
      ]
    },
    {
      "cell_type": "markdown",
      "metadata": {
        "id": "oCvFdYc2qZSm",
        "colab_type": "text"
      },
      "source": [
        "5. Obtenha os índices das posições onde existam dados ausentes."
      ]
    },
    {
      "cell_type": "code",
      "metadata": {
        "id": "vbnW3ZqCqZSn",
        "colab_type": "code",
        "colab": {
          "base_uri": "https://localhost:8080/",
          "height": 51
        },
        "outputId": "4e7856e5-72fb-425d-f1a9-90fdf6e1da13"
      },
      "source": [
        "indices = np.where(dados[:] == b'')\n",
        "linhas_dados_ausentes =  indices[0]\n",
        "colunas_dados_ausentes = indices[1]\n",
        "indices\n"
      ],
      "execution_count": 9,
      "outputs": [
        {
          "output_type": "execute_result",
          "data": {
            "text/plain": [
              "(array([   0,    1,    2, ..., 1308, 1308, 1308]),\n",
              " array([13, 13, 12, ..., 12, 13, 14]))"
            ]
          },
          "metadata": {
            "tags": []
          },
          "execution_count": 9
        }
      ]
    },
    {
      "cell_type": "markdown",
      "metadata": {
        "id": "d_iZX45xqZSp",
        "colab_type": "text"
      },
      "source": [
        "6. Remova todas as linhas que possuem dados ausentes."
      ]
    },
    {
      "cell_type": "code",
      "metadata": {
        "id": "CxIwGJDKqZSq",
        "colab_type": "code",
        "colab": {
          "base_uri": "https://localhost:8080/",
          "height": 170
        },
        "outputId": "8179911b-817a-4e2f-dfd6-8bbf4f06cebf"
      },
      "source": [
        "print(dados)\n",
        "print(indices)\n",
        "nova_matriz = np.delete(dados, indices, axis=0)\n",
        "print(nova_matriz)"
      ],
      "execution_count": 10,
      "outputs": [
        {
          "output_type": "stream",
          "text": [
            "[[b'1' b'1' b'1' ... b'2' b'' b'St Louis, MO']\n",
            " [b'2' b'1' b'1' ... b'11' b'' b'Montreal, PQ / Chesterville, ON']\n",
            " [b'3' b'1' b'0' ... b'' b'' b'Montreal, PQ / Chesterville, ON']\n",
            " ...\n",
            " [b'1307' b'3' b'0' ... b'' b'304' b'']\n",
            " [b'1308' b'3' b'0' ... b'' b'' b'']\n",
            " [b'1309' b'3' b'0' ... b'' b'' b'']]\n",
            "(array([   0,    1,    2, ..., 1308, 1308, 1308]), array([13, 13, 12, ..., 12, 13, 14]))\n",
            "[]\n"
          ],
          "name": "stdout"
        }
      ]
    },
    {
      "cell_type": "markdown",
      "metadata": {
        "id": "7dqZnBkvqZSt",
        "colab_type": "text"
      },
      "source": [
        "7. Mostre todos os dados das 5 primeiras linhas do dataset."
      ]
    },
    {
      "cell_type": "code",
      "metadata": {
        "id": "AQF7z0mwqZSu",
        "colab_type": "code",
        "colab": {
          "base_uri": "https://localhost:8080/",
          "height": 255
        },
        "outputId": "1be913ed-92bd-4ffc-8195-db76f4eb107d"
      },
      "source": [
        "print(dados[:5])"
      ],
      "execution_count": null,
      "outputs": [
        {
          "output_type": "stream",
          "text": [
            "[[b'1' b'1' b'1' b'Allen, Miss. Elisabeth Walton' b'female' b'29' b'0'\n",
            "  b'0' b'24160' b'211.3375' b'B5' b'S' b'2' b'' b'St Louis, MO']\n",
            " [b'2' b'1' b'1' b'Allison, Master. Hudson Trevor' b'male' b'1' b'1' b'2'\n",
            "  b'113781' b'151.5500' b'C22 C26' b'S' b'11' b''\n",
            "  b'Montreal, PQ / Chesterville, ON']\n",
            " [b'3' b'1' b'0' b'Allison, Miss. Helen Loraine' b'female' b'2' b'1' b'2'\n",
            "  b'113781' b'151.5500' b'C22 C26' b'S' b'' b''\n",
            "  b'Montreal, PQ / Chesterville, ON']\n",
            " [b'4' b'1' b'0' b'Allison, Mr. Hudson Joshua Creighton' b'male' b'30'\n",
            "  b'1' b'2' b'113781' b'151.5500' b'C22 C26' b'S' b'' b'135'\n",
            "  b'Montreal, PQ / Chesterville, ON']\n",
            " [b'5' b'1' b'0' b'Allison, Mrs. Hudson J C (Bessie Waldo Daniels)'\n",
            "  b'female' b'25' b'1' b'2' b'113781' b'151.5500' b'C22 C26' b'S' b'' b''\n",
            "  b'Montreal, PQ / Chesterville, ON']]\n"
          ],
          "name": "stdout"
        }
      ]
    },
    {
      "cell_type": "markdown",
      "metadata": {
        "id": "Fcr9Iq2nqZSx",
        "colab_type": "text"
      },
      "source": [
        "8. Crie as variáveis: `idade`, `irmaos_conjuges`, `pais_filhos` e `tarifa`; com todos os dados dessas colunas, e, tipos de dados conforme a tabela abaixo:\n",
        "\n",
        "| Nº | Coluna          | Tipo de Dados |\n",
        "|:--:|-----------------|---------------|\n",
        "|  6 | idade           | int           |\n",
        "|  7 | irmaos_conjuges | int           |\n",
        "|  8 | pais_filhos     | int           |\n",
        "| 10 | tarifa          | float         |"
      ]
    },
    {
      "cell_type": "code",
      "metadata": {
        "id": "rnGRP2wjqZSx",
        "colab_type": "code",
        "colab": {}
      },
      "source": [
        "condicao_vazio = dados[:, 5] != b''\n",
        "idade = dados[condicao_vazio, 5].astype(float)\n",
        "irmaos_conjuges = dados[:,6].astype(str)\n",
        "pais_filhos = dados[:,7].astype(int)\n",
        "tarifa = dados[:,9].astype(str)"
      ],
      "execution_count": null,
      "outputs": []
    },
    {
      "cell_type": "markdown",
      "metadata": {
        "id": "0OmTn_s5qZSz",
        "colab_type": "text"
      },
      "source": [
        "9. Selecione as primeiras 5 linhas dos dados."
      ]
    },
    {
      "cell_type": "code",
      "metadata": {
        "id": "R7yKwNASqZS0",
        "colab_type": "code",
        "colab": {
          "base_uri": "https://localhost:8080/",
          "height": 255
        },
        "outputId": "af5b5b38-512f-48c8-a1a5-48b2bbdc298e"
      },
      "source": [
        "print(dados[:5])"
      ],
      "execution_count": null,
      "outputs": [
        {
          "output_type": "stream",
          "text": [
            "[[b'1' b'1' b'1' b'Allen, Miss. Elisabeth Walton' b'female' b'29' b'0'\n",
            "  b'0' b'24160' b'211.3375' b'B5' b'S' b'2' b'' b'St Louis, MO']\n",
            " [b'2' b'1' b'1' b'Allison, Master. Hudson Trevor' b'male' b'1' b'1' b'2'\n",
            "  b'113781' b'151.5500' b'C22 C26' b'S' b'11' b''\n",
            "  b'Montreal, PQ / Chesterville, ON']\n",
            " [b'3' b'1' b'0' b'Allison, Miss. Helen Loraine' b'female' b'2' b'1' b'2'\n",
            "  b'113781' b'151.5500' b'C22 C26' b'S' b'' b''\n",
            "  b'Montreal, PQ / Chesterville, ON']\n",
            " [b'4' b'1' b'0' b'Allison, Mr. Hudson Joshua Creighton' b'male' b'30'\n",
            "  b'1' b'2' b'113781' b'151.5500' b'C22 C26' b'S' b'' b'135'\n",
            "  b'Montreal, PQ / Chesterville, ON']\n",
            " [b'5' b'1' b'0' b'Allison, Mrs. Hudson J C (Bessie Waldo Daniels)'\n",
            "  b'female' b'25' b'1' b'2' b'113781' b'151.5500' b'C22 C26' b'S' b'' b''\n",
            "  b'Montreal, PQ / Chesterville, ON']]\n"
          ],
          "name": "stdout"
        }
      ]
    },
    {
      "cell_type": "markdown",
      "metadata": {
        "id": "KiXmq-HIqZS4",
        "colab_type": "text"
      },
      "source": [
        "10. Considerando o vetor `idades`, selecione todas as idades das crianças a bordo menores de 12 anos inclusive."
      ]
    },
    {
      "cell_type": "code",
      "metadata": {
        "id": "3xr7vBOwqZS4",
        "colab_type": "code",
        "colab": {
          "base_uri": "https://localhost:8080/",
          "height": 153
        },
        "outputId": "6a4a1751-ed42-4062-d040-7864455e47c4"
      },
      "source": [
        "condicao = dados[:, 5] <= b'12'\n",
        "idade = dados[condicao, :]\n",
        "idade\n"
      ],
      "execution_count": null,
      "outputs": [
        {
          "output_type": "execute_result",
          "data": {
            "text/plain": [
              "array([[b'2', b'1', b'1', ..., b'11', b'',\n",
              "        b'Montreal, PQ / Chesterville, ON'],\n",
              "       [b'16', b'1', b'0', ..., b'', b'', b'New York, NY'],\n",
              "       [b'38', b'1', b'1', ..., b'9', b'', b'Los Angeles, CA'],\n",
              "       ...,\n",
              "       [b'1303', b'3', b'0', ..., b'', b'', b''],\n",
              "       [b'1304', b'3', b'0', ..., b'', b'', b''],\n",
              "       [b'1306', b'3', b'0', ..., b'', b'', b'']], dtype=object)"
            ]
          },
          "metadata": {
            "tags": []
          },
          "execution_count": 74
        }
      ]
    },
    {
      "cell_type": "markdown",
      "metadata": {
        "id": "h57NE5KiqZS7",
        "colab_type": "text"
      },
      "source": [
        "11. Qual é a média das idades?"
      ]
    },
    {
      "cell_type": "code",
      "metadata": {
        "id": "Ba_KZlheqZS7",
        "colab_type": "code",
        "colab": {
          "base_uri": "https://localhost:8080/",
          "height": 34
        },
        "outputId": "a07f83b0-d921-42b4-cbf9-a1c56028ac2f"
      },
      "source": [
        "condicao_vazio = dados[:, 5] != b''\n",
        "idade = dados[condicao_vazio, 5].astype(float)\n",
        "print(idade.mean())"
      ],
      "execution_count": null,
      "outputs": [
        {
          "output_type": "stream",
          "text": [
            "29.89770554493308\n"
          ],
          "name": "stdout"
        }
      ]
    },
    {
      "cell_type": "markdown",
      "metadata": {
        "id": "_cOKt0m2qZS9",
        "colab_type": "text"
      },
      "source": [
        "12. Quais é a maior e menor idade?"
      ]
    },
    {
      "cell_type": "code",
      "metadata": {
        "id": "Yzh2R8HhqZS-",
        "colab_type": "code",
        "colab": {
          "base_uri": "https://localhost:8080/",
          "height": 51
        },
        "outputId": "34e676ba-df30-46ef-c4af-ca619b6adc65"
      },
      "source": [
        "print(idade.max())\n",
        "print(idade.min())"
      ],
      "execution_count": null,
      "outputs": [
        {
          "output_type": "stream",
          "text": [
            "80.0\n",
            "0.0\n"
          ],
          "name": "stdout"
        }
      ]
    },
    {
      "cell_type": "markdown",
      "metadata": {
        "id": "kYd9WkmvqZTB",
        "colab_type": "text"
      },
      "source": [
        "13. Crie um vetor chamado `sobreviventes` com todos os dados das pessoas que sobreviveram ao naufrágio."
      ]
    },
    {
      "cell_type": "code",
      "metadata": {
        "id": "TRCgxykzqZTB",
        "colab_type": "code",
        "colab": {
          "base_uri": "https://localhost:8080/",
          "height": 187
        },
        "outputId": "ec553faf-0951-404f-d804-9e80f7888c5e"
      },
      "source": [
        "condicao = dados[:, 2] == b'1'\n",
        "dados_sobreviventes = dados[condicao, :]\n",
        "dados_sobreviventes"
      ],
      "execution_count": null,
      "outputs": [
        {
          "output_type": "execute_result",
          "data": {
            "text/plain": [
              "array([[b'1', b'1', b'1', b'Allen, Miss. Elisabeth Walton', b'female'],\n",
              "       [b'2', b'1', b'1', b'Allison, Master. Hudson Trevor', b'male'],\n",
              "       [b'6', b'1', b'1', b'Anderson, Mr. Harry', b'male'],\n",
              "       ...,\n",
              "       [b'1287', b'3', b'1',\n",
              "        b'Whabee, Mrs. George Joseph (Shawneene Abi-Saab)', b'female'],\n",
              "       [b'1291', b'3', b'1', b'Wilkes, Mrs. James (Ellen Needs)',\n",
              "        b'female'],\n",
              "       [b'1301', b'3', b'1', b'Yasbeck, Mrs. Antoni (Selini Alexander)',\n",
              "        b'female']], dtype=object)"
            ]
          },
          "metadata": {
            "tags": []
          },
          "execution_count": 72
        }
      ]
    },
    {
      "cell_type": "markdown",
      "metadata": {
        "id": "QlGqZdwzqZTD",
        "colab_type": "text"
      },
      "source": [
        "14. Segundo este conjunto de dados, quantas pessoas sobreviveram ao naufrágio?"
      ]
    },
    {
      "cell_type": "code",
      "metadata": {
        "id": "yHyAd9oeqZTD",
        "colab_type": "code",
        "colab": {
          "base_uri": "https://localhost:8080/",
          "height": 34
        },
        "outputId": "e9b03ed6-6791-40fb-ac70-60bc32fcbdf6"
      },
      "source": [
        "print(len(vet_sobreviventes))"
      ],
      "execution_count": null,
      "outputs": [
        {
          "output_type": "stream",
          "text": [
            "1309\n"
          ],
          "name": "stdout"
        }
      ]
    },
    {
      "cell_type": "markdown",
      "metadata": {
        "id": "krqUjv8_qZTG",
        "colab_type": "text"
      },
      "source": [
        "15.  Considerando a coluna `idade` dos sobreviventes calcule:\n",
        "    - Média\n",
        "    - Mediana\n",
        "    - Máximo\n",
        "    - Mínimo"
      ]
    },
    {
      "cell_type": "code",
      "metadata": {
        "id": "QineYSYUqZTH",
        "colab_type": "code",
        "colab": {
          "base_uri": "https://localhost:8080/",
          "height": 197
        },
        "outputId": "16dfe4b6-04eb-418f-87e3-8ac5b8f5bf74"
      },
      "source": [
        "condicao_vazio = dados[:, 2] != b''\n",
        "idade = dados[condicao_vazio, 2].astype(float)\n",
        "print(idade.mean())\n",
        "print(idade.min())\n",
        "print(idade.max())\n"
      ],
      "execution_count": 63,
      "outputs": [
        {
          "output_type": "error",
          "ename": "TypeError",
          "evalue": "ignored",
          "traceback": [
            "\u001b[0;31m---------------------------------------------------------------------------\u001b[0m",
            "\u001b[0;31mTypeError\u001b[0m                                 Traceback (most recent call last)",
            "\u001b[0;32m<ipython-input-63-a4e944bc649a>\u001b[0m in \u001b[0;36m<module>\u001b[0;34m()\u001b[0m\n\u001b[1;32m      1\u001b[0m \u001b[0mcondicao\u001b[0m \u001b[0;34m=\u001b[0m \u001b[0mdados\u001b[0m\u001b[0;34m[\u001b[0m\u001b[0;34m:\u001b[0m\u001b[0;34m,\u001b[0m \u001b[0;36m2\u001b[0m\u001b[0;34m]\u001b[0m \u001b[0;34m==\u001b[0m \u001b[0;34mb'1'\u001b[0m\u001b[0;34m\u001b[0m\u001b[0;34m\u001b[0m\u001b[0m\n\u001b[1;32m      2\u001b[0m \u001b[0mdados_sobreviventes\u001b[0m \u001b[0;34m=\u001b[0m \u001b[0mdados\u001b[0m\u001b[0;34m[\u001b[0m\u001b[0mcondicao\u001b[0m\u001b[0;34m,\u001b[0m \u001b[0;34m:\u001b[0m\u001b[0;34m]\u001b[0m\u001b[0;34m\u001b[0m\u001b[0;34m\u001b[0m\u001b[0m\n\u001b[0;32m----> 3\u001b[0;31m \u001b[0mprint\u001b[0m\u001b[0;34m(\u001b[0m\u001b[0mdados_sobreviventes\u001b[0m\u001b[0;34m.\u001b[0m\u001b[0mmean\u001b[0m\u001b[0;34m[\u001b[0m\u001b[0;34m:\u001b[0m\u001b[0;34m,\u001b[0m\u001b[0;36m5\u001b[0m\u001b[0;34m]\u001b[0m\u001b[0;34m)\u001b[0m\u001b[0;34m\u001b[0m\u001b[0;34m\u001b[0m\u001b[0m\n\u001b[0m",
            "\u001b[0;31mTypeError\u001b[0m: 'builtin_function_or_method' object is not subscriptable"
          ]
        }
      ]
    },
    {
      "cell_type": "markdown",
      "metadata": {
        "id": "w1U0BxgtqZTJ",
        "colab_type": "text"
      },
      "source": [
        "16. Crie um vetor chamado `vitimas_naufragio` com todos os dados das pessoas que não sobreviveram ao naufrágio."
      ]
    },
    {
      "cell_type": "code",
      "metadata": {
        "id": "SMd0f8NxqZTJ",
        "colab_type": "code",
        "colab": {
          "base_uri": "https://localhost:8080/",
          "height": 187
        },
        "outputId": "db3690f6-3837-468d-c04d-173d80478bce"
      },
      "source": [
        "condicao = dados[:, 2] == b'0'\n",
        "dados_vitimas = dados[condicao, :]\n",
        "dados_vitimas"
      ],
      "execution_count": 29,
      "outputs": [
        {
          "output_type": "execute_result",
          "data": {
            "text/plain": [
              "array([[b'3', b'1', b'0', ..., b'', b'',\n",
              "        b'Montreal, PQ / Chesterville, ON'],\n",
              "       [b'4', b'1', b'0', ..., b'', b'135',\n",
              "        b'Montreal, PQ / Chesterville, ON'],\n",
              "       [b'5', b'1', b'0', ..., b'', b'',\n",
              "        b'Montreal, PQ / Chesterville, ON'],\n",
              "       ...,\n",
              "       [b'1307', b'3', b'0', ..., b'', b'304', b''],\n",
              "       [b'1308', b'3', b'0', ..., b'', b'', b''],\n",
              "       [b'1309', b'3', b'0', ..., b'', b'', b'']], dtype=object)"
            ]
          },
          "metadata": {
            "tags": []
          },
          "execution_count": 29
        }
      ]
    },
    {
      "cell_type": "markdown",
      "metadata": {
        "id": "AUX7yN3yqZTL",
        "colab_type": "text"
      },
      "source": [
        "17. Considerando a coluna `vitimas_naufragio` dos sobreviventes calcule:\n",
        "    - Média\n",
        "    - Mediana\n",
        "    - Máximo\n",
        "    - Mínimo"
      ]
    },
    {
      "cell_type": "code",
      "metadata": {
        "id": "STJXKD8uqZTL",
        "colab_type": "code",
        "colab": {
          "base_uri": "https://localhost:8080/",
          "height": 251
        },
        "outputId": "b8c0678f-8479-46d3-9b99-140104f4b159"
      },
      "source": [
        "dados_vitimas = np.where(dados[:] == b'')\n",
        "linhas_dados_ausentes =  dados_vitimas[0]\n",
        "colunas_dados_ausentes = dados_vitimas[1]\n",
        "indices\n",
        "#vitmas\n",
        "condicao_vazio = dados[2:, 5] == 0\n",
        "dados_vitimas = dados[condicao_vazio, 2].astype(float)\n",
        "print(dados_vitimas.mean())\n",
        "print(dados_vitimas.min())\n",
        "print(dados_vitimas.max())"
      ],
      "execution_count": 67,
      "outputs": [
        {
          "output_type": "error",
          "ename": "IndexError",
          "evalue": "ignored",
          "traceback": [
            "\u001b[0;31m---------------------------------------------------------------------------\u001b[0m",
            "\u001b[0;31mIndexError\u001b[0m                                Traceback (most recent call last)",
            "\u001b[0;32m<ipython-input-67-cde5241e286b>\u001b[0m in \u001b[0;36m<module>\u001b[0;34m()\u001b[0m\n\u001b[1;32m      5\u001b[0m \u001b[0;31m#vitmas\u001b[0m\u001b[0;34m\u001b[0m\u001b[0;34m\u001b[0m\u001b[0;34m\u001b[0m\u001b[0m\n\u001b[1;32m      6\u001b[0m \u001b[0mcondicao_vazio\u001b[0m \u001b[0;34m=\u001b[0m \u001b[0mdados\u001b[0m\u001b[0;34m[\u001b[0m\u001b[0;36m2\u001b[0m\u001b[0;34m:\u001b[0m\u001b[0;34m,\u001b[0m \u001b[0;36m5\u001b[0m\u001b[0;34m]\u001b[0m \u001b[0;34m==\u001b[0m \u001b[0;36m0\u001b[0m\u001b[0;34m\u001b[0m\u001b[0;34m\u001b[0m\u001b[0m\n\u001b[0;32m----> 7\u001b[0;31m \u001b[0mdados_vitimas\u001b[0m \u001b[0;34m=\u001b[0m \u001b[0mdados\u001b[0m\u001b[0;34m[\u001b[0m\u001b[0mcondicao_vazio\u001b[0m\u001b[0;34m,\u001b[0m \u001b[0;36m2\u001b[0m\u001b[0;34m]\u001b[0m\u001b[0;34m.\u001b[0m\u001b[0mastype\u001b[0m\u001b[0;34m(\u001b[0m\u001b[0mfloat\u001b[0m\u001b[0;34m)\u001b[0m\u001b[0;34m\u001b[0m\u001b[0;34m\u001b[0m\u001b[0m\n\u001b[0m\u001b[1;32m      8\u001b[0m \u001b[0mprint\u001b[0m\u001b[0;34m(\u001b[0m\u001b[0mdados_vitimas\u001b[0m\u001b[0;34m.\u001b[0m\u001b[0mmean\u001b[0m\u001b[0;34m(\u001b[0m\u001b[0;34m)\u001b[0m\u001b[0;34m)\u001b[0m\u001b[0;34m\u001b[0m\u001b[0;34m\u001b[0m\u001b[0m\n\u001b[1;32m      9\u001b[0m \u001b[0mprint\u001b[0m\u001b[0;34m(\u001b[0m\u001b[0mdados_vitimas\u001b[0m\u001b[0;34m.\u001b[0m\u001b[0mmin\u001b[0m\u001b[0;34m(\u001b[0m\u001b[0;34m)\u001b[0m\u001b[0;34m)\u001b[0m\u001b[0;34m\u001b[0m\u001b[0;34m\u001b[0m\u001b[0m\n",
            "\u001b[0;31mIndexError\u001b[0m: boolean index did not match indexed array along dimension 0; dimension is 1309 but corresponding boolean dimension is 1307"
          ]
        }
      ]
    },
    {
      "cell_type": "markdown",
      "metadata": {
        "id": "dr3zvyCVqZTO",
        "colab_type": "text"
      },
      "source": [
        "18. Qual era o preço médio das tarifas?"
      ]
    },
    {
      "cell_type": "code",
      "metadata": {
        "id": "KBifYJJJqZTO",
        "colab_type": "code",
        "colab": {
          "base_uri": "https://localhost:8080/",
          "height": 34
        },
        "outputId": "9b258aac-c05f-4dd2-89c1-36f549b8756e"
      },
      "source": [
        "condicao_vazio = dados[:, 9] != b''\n",
        "tarifa = dados[condicao_vazio, 9].astype(float)\n",
        "print(tarifa.mean())"
      ],
      "execution_count": null,
      "outputs": [
        {
          "output_type": "stream",
          "text": [
            "4428.399034327217\n"
          ],
          "name": "stdout"
        }
      ]
    },
    {
      "cell_type": "markdown",
      "metadata": {
        "id": "SH68lfyEqZTR",
        "colab_type": "text"
      },
      "source": [
        "19. Crie os vetores `classe_alta`, `classe_media` e `classe_baixa`, com os respectivos dados da coluna `classe` no qual:\n",
        "    - 1 = Classe Alta\n",
        "    - 2 = Classe Média\n",
        "    - 3 = Classe Baixa"
      ]
    },
    {
      "cell_type": "code",
      "metadata": {
        "id": "Aud30DmeqZTS",
        "colab_type": "code",
        "colab": {}
      },
      "source": [
        "condicao_vazio = dados[:, 1] != b'1'\n",
        "alta = dados[condicao_vazio, 1].astype(int)\n",
        "\n",
        "condicao_vazio = dados[:, 1] != b'2'\n",
        "media = dados[:,1].astype(int)\n",
        "\n",
        "condicao_vazio = dados[:, 1] != b'3'\n",
        "baixa = dados[:,1].astype(int)\n"
      ],
      "execution_count": 26,
      "outputs": []
    },
    {
      "cell_type": "markdown",
      "metadata": {
        "id": "GnI9oTIoqZTU",
        "colab_type": "text"
      },
      "source": [
        "20. Qual é o número total de passageiros por classe social?"
      ]
    },
    {
      "cell_type": "code",
      "metadata": {
        "id": "Ry40NVhEqZTV",
        "colab_type": "code",
        "colab": {
          "base_uri": "https://localhost:8080/",
          "height": 68
        },
        "outputId": "c41630ac-66af-491d-b17d-4dd6c099a244"
      },
      "source": [
        "\n",
        "print(len(alta))\n",
        "\n",
        "print(len(media))\n",
        "\n",
        "print(len(baixa))\n"
      ],
      "execution_count": 27,
      "outputs": [
        {
          "output_type": "stream",
          "text": [
            "986\n",
            "1309\n",
            "1309\n"
          ],
          "name": "stdout"
        }
      ]
    },
    {
      "cell_type": "markdown",
      "metadata": {
        "id": "WoVBcTjRqZTW",
        "colab_type": "text"
      },
      "source": [
        "# REFERÊNCIAS\n",
        "\n",
        "- [Titanic: Machine Learning from Disaster](https://www.kaggle.com/c/titanic/data)\n",
        "- [Encyclopedia Titanica](https://www.encyclopedia-titanica.org/)\n",
        "- [Basic Feature Engineering with the Titanic Data](https://triangleinequality.wordpress.com/2013/09/08/basic-feature-engineering-with-the-titanic-data/)\n",
        "- Hind, Philip.  \"Encyclopedia Titanica.\"  Online.  Internet. n.p.  02 Aug 1999."
      ]
    }
  ]
}